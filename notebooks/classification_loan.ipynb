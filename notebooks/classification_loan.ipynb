{
 "cells": [
  {
   "cell_type": "code",
   "execution_count": 2,
   "metadata": {},
   "outputs": [
    {
     "data": {
      "text/html": [
       "<div>\n",
       "<style scoped>\n",
       "    .dataframe tbody tr th:only-of-type {\n",
       "        vertical-align: middle;\n",
       "    }\n",
       "\n",
       "    .dataframe tbody tr th {\n",
       "        vertical-align: top;\n",
       "    }\n",
       "\n",
       "    .dataframe thead th {\n",
       "        text-align: right;\n",
       "    }\n",
       "</style>\n",
       "<table border=\"1\" class=\"dataframe\">\n",
       "  <thead>\n",
       "    <tr style=\"text-align: right;\">\n",
       "      <th></th>\n",
       "      <th>id</th>\n",
       "      <th>f1</th>\n",
       "      <th>f2</th>\n",
       "      <th>f3</th>\n",
       "      <th>f4</th>\n",
       "      <th>f5</th>\n",
       "      <th>f6</th>\n",
       "      <th>f7</th>\n",
       "      <th>f8</th>\n",
       "      <th>f9</th>\n",
       "      <th>...</th>\n",
       "      <th>f770</th>\n",
       "      <th>f771</th>\n",
       "      <th>f772</th>\n",
       "      <th>f773</th>\n",
       "      <th>f774</th>\n",
       "      <th>f775</th>\n",
       "      <th>f776</th>\n",
       "      <th>f777</th>\n",
       "      <th>f778</th>\n",
       "      <th>loss</th>\n",
       "    </tr>\n",
       "  </thead>\n",
       "  <tbody>\n",
       "    <tr>\n",
       "      <th>0</th>\n",
       "      <td>1.0</td>\n",
       "      <td>126.0</td>\n",
       "      <td>10.0</td>\n",
       "      <td>0.686842</td>\n",
       "      <td>1100.0</td>\n",
       "      <td>3.0</td>\n",
       "      <td>13699.0</td>\n",
       "      <td>7201.0</td>\n",
       "      <td>4949.0</td>\n",
       "      <td>126.75</td>\n",
       "      <td>...</td>\n",
       "      <td>5.0</td>\n",
       "      <td>2.14</td>\n",
       "      <td>-1.54</td>\n",
       "      <td>1.18</td>\n",
       "      <td>0.1833</td>\n",
       "      <td>0.7873</td>\n",
       "      <td>1.0</td>\n",
       "      <td>0.0</td>\n",
       "      <td>5.0</td>\n",
       "      <td>0.0</td>\n",
       "    </tr>\n",
       "    <tr>\n",
       "      <th>1</th>\n",
       "      <td>2.0</td>\n",
       "      <td>121.0</td>\n",
       "      <td>10.0</td>\n",
       "      <td>0.782776</td>\n",
       "      <td>1100.0</td>\n",
       "      <td>3.0</td>\n",
       "      <td>84645.0</td>\n",
       "      <td>240.0</td>\n",
       "      <td>1625.0</td>\n",
       "      <td>123.52</td>\n",
       "      <td>...</td>\n",
       "      <td>6.0</td>\n",
       "      <td>0.54</td>\n",
       "      <td>-0.24</td>\n",
       "      <td>0.13</td>\n",
       "      <td>0.1926</td>\n",
       "      <td>-0.6787</td>\n",
       "      <td>1.0</td>\n",
       "      <td>0.0</td>\n",
       "      <td>5.0</td>\n",
       "      <td>0.0</td>\n",
       "    </tr>\n",
       "    <tr>\n",
       "      <th>2</th>\n",
       "      <td>3.0</td>\n",
       "      <td>126.0</td>\n",
       "      <td>10.0</td>\n",
       "      <td>0.500080</td>\n",
       "      <td>1100.0</td>\n",
       "      <td>3.0</td>\n",
       "      <td>83607.0</td>\n",
       "      <td>1800.0</td>\n",
       "      <td>1527.0</td>\n",
       "      <td>127.76</td>\n",
       "      <td>...</td>\n",
       "      <td>13.0</td>\n",
       "      <td>2.89</td>\n",
       "      <td>-1.73</td>\n",
       "      <td>1.04</td>\n",
       "      <td>0.2521</td>\n",
       "      <td>0.7258</td>\n",
       "      <td>1.0</td>\n",
       "      <td>0.0</td>\n",
       "      <td>5.0</td>\n",
       "      <td>0.0</td>\n",
       "    </tr>\n",
       "    <tr>\n",
       "      <th>3</th>\n",
       "      <td>4.0</td>\n",
       "      <td>134.0</td>\n",
       "      <td>10.0</td>\n",
       "      <td>0.439874</td>\n",
       "      <td>1100.0</td>\n",
       "      <td>3.0</td>\n",
       "      <td>82642.0</td>\n",
       "      <td>7542.0</td>\n",
       "      <td>1730.0</td>\n",
       "      <td>132.94</td>\n",
       "      <td>...</td>\n",
       "      <td>4.0</td>\n",
       "      <td>1.29</td>\n",
       "      <td>-0.89</td>\n",
       "      <td>0.66</td>\n",
       "      <td>0.2498</td>\n",
       "      <td>0.7119</td>\n",
       "      <td>1.0</td>\n",
       "      <td>0.0</td>\n",
       "      <td>5.0</td>\n",
       "      <td>0.0</td>\n",
       "    </tr>\n",
       "    <tr>\n",
       "      <th>4</th>\n",
       "      <td>5.0</td>\n",
       "      <td>109.0</td>\n",
       "      <td>9.0</td>\n",
       "      <td>0.502749</td>\n",
       "      <td>2900.0</td>\n",
       "      <td>4.0</td>\n",
       "      <td>79124.0</td>\n",
       "      <td>89.0</td>\n",
       "      <td>491.0</td>\n",
       "      <td>122.72</td>\n",
       "      <td>...</td>\n",
       "      <td>26.0</td>\n",
       "      <td>6.11</td>\n",
       "      <td>-3.82</td>\n",
       "      <td>2.51</td>\n",
       "      <td>0.2282</td>\n",
       "      <td>-0.5399</td>\n",
       "      <td>0.0</td>\n",
       "      <td>0.0</td>\n",
       "      <td>5.0</td>\n",
       "      <td>0.0</td>\n",
       "    </tr>\n",
       "  </tbody>\n",
       "</table>\n",
       "<p>5 rows × 771 columns</p>\n",
       "</div>"
      ],
      "text/plain": [
       "    id     f1    f2        f3      f4   f5       f6      f7      f8      f9  \\\n",
       "0  1.0  126.0  10.0  0.686842  1100.0  3.0  13699.0  7201.0  4949.0  126.75   \n",
       "1  2.0  121.0  10.0  0.782776  1100.0  3.0  84645.0   240.0  1625.0  123.52   \n",
       "2  3.0  126.0  10.0  0.500080  1100.0  3.0  83607.0  1800.0  1527.0  127.76   \n",
       "3  4.0  134.0  10.0  0.439874  1100.0  3.0  82642.0  7542.0  1730.0  132.94   \n",
       "4  5.0  109.0   9.0  0.502749  2900.0  4.0  79124.0    89.0   491.0  122.72   \n",
       "\n",
       "   ...  f770  f771  f772  f773    f774    f775  f776  f777  f778  loss  \n",
       "0  ...   5.0  2.14 -1.54  1.18  0.1833  0.7873   1.0   0.0   5.0   0.0  \n",
       "1  ...   6.0  0.54 -0.24  0.13  0.1926 -0.6787   1.0   0.0   5.0   0.0  \n",
       "2  ...  13.0  2.89 -1.73  1.04  0.2521  0.7258   1.0   0.0   5.0   0.0  \n",
       "3  ...   4.0  1.29 -0.89  0.66  0.2498  0.7119   1.0   0.0   5.0   0.0  \n",
       "4  ...  26.0  6.11 -3.82  2.51  0.2282 -0.5399   0.0   0.0   5.0   0.0  \n",
       "\n",
       "[5 rows x 771 columns]"
      ]
     },
     "execution_count": 2,
     "metadata": {},
     "output_type": "execute_result"
    }
   ],
   "source": [
    "#import dataset\n",
    "import pandas as pd\n",
    "import numpy as np\n",
    "#some variables are numeric but in different formats as int and float\n",
    "#casting all as float\n",
    "df = pd.read_csv('data/loan.csv',dtype = np.float64)\n",
    "df.head()"
   ]
  },
  {
   "cell_type": "code",
   "execution_count": 3,
   "metadata": {},
   "outputs": [
    {
     "name": "stdout",
     "output_type": "stream",
     "text": [
      "<class 'pandas.core.frame.DataFrame'>\n",
      "RangeIndex: 105471 entries, 0 to 105470\n",
      "Columns: 771 entries, id to loss\n",
      "dtypes: float64(771)\n",
      "memory usage: 620.4 MB\n"
     ]
    }
   ],
   "source": [
    "df.info()"
   ]
  },
  {
   "cell_type": "code",
   "execution_count": 4,
   "metadata": {},
   "outputs": [
    {
     "data": {
      "text/plain": [
       "id         0\n",
       "f1         0\n",
       "f2         0\n",
       "f3         0\n",
       "f4         0\n",
       "        ... \n",
       "f775    1525\n",
       "f776       0\n",
       "f777       0\n",
       "f778       0\n",
       "loss       0\n",
       "Length: 771, dtype: int64"
      ]
     },
     "execution_count": 4,
     "metadata": {},
     "output_type": "execute_result"
    }
   ],
   "source": [
    "#Check for missing values\n",
    "df.isna().sum()\n"
   ]
  },
  {
   "cell_type": "code",
   "execution_count": 15,
   "metadata": {},
   "outputs": [],
   "source": [
    "#Fill the missing values with mean\n",
    "df.fillna(df.mean(),inplace=True)"
   ]
  },
  {
   "cell_type": "code",
   "execution_count": 16,
   "metadata": {},
   "outputs": [
    {
     "data": {
      "text/plain": [
       "0.0"
      ]
     },
     "execution_count": 16,
     "metadata": {},
     "output_type": "execute_result"
    }
   ],
   "source": [
    "df.isna().sum().mean()"
   ]
  },
  {
   "cell_type": "code",
   "execution_count": 30,
   "metadata": {},
   "outputs": [],
   "source": [
    "#import numpy as np\n",
    "#df.describe(include = np.object).transpose()"
   ]
  },
  {
   "cell_type": "code",
   "execution_count": 6,
   "metadata": {
    "scrolled": false
   },
   "outputs": [
    {
     "data": {
      "text/html": [
       "<div>\n",
       "<style scoped>\n",
       "    .dataframe tbody tr th:only-of-type {\n",
       "        vertical-align: middle;\n",
       "    }\n",
       "\n",
       "    .dataframe tbody tr th {\n",
       "        vertical-align: top;\n",
       "    }\n",
       "\n",
       "    .dataframe thead th {\n",
       "        text-align: right;\n",
       "    }\n",
       "</style>\n",
       "<table border=\"1\" class=\"dataframe\">\n",
       "  <thead>\n",
       "    <tr style=\"text-align: right;\">\n",
       "      <th></th>\n",
       "      <th>count</th>\n",
       "      <th>mean</th>\n",
       "      <th>std</th>\n",
       "      <th>min</th>\n",
       "      <th>25%</th>\n",
       "      <th>50%</th>\n",
       "      <th>75%</th>\n",
       "      <th>max</th>\n",
       "    </tr>\n",
       "  </thead>\n",
       "  <tbody>\n",
       "    <tr>\n",
       "      <th>id</th>\n",
       "      <td>105471.0</td>\n",
       "      <td>52736.000000</td>\n",
       "      <td>30446.999458</td>\n",
       "      <td>1.000000</td>\n",
       "      <td>26368.50000</td>\n",
       "      <td>52736.000000</td>\n",
       "      <td>79103.500000</td>\n",
       "      <td>105471.000000</td>\n",
       "    </tr>\n",
       "    <tr>\n",
       "      <th>f1</th>\n",
       "      <td>105471.0</td>\n",
       "      <td>134.603171</td>\n",
       "      <td>14.725467</td>\n",
       "      <td>103.000000</td>\n",
       "      <td>124.00000</td>\n",
       "      <td>129.000000</td>\n",
       "      <td>148.000000</td>\n",
       "      <td>176.000000</td>\n",
       "    </tr>\n",
       "    <tr>\n",
       "      <th>f2</th>\n",
       "      <td>105471.0</td>\n",
       "      <td>8.246883</td>\n",
       "      <td>1.691535</td>\n",
       "      <td>1.000000</td>\n",
       "      <td>8.00000</td>\n",
       "      <td>9.000000</td>\n",
       "      <td>9.000000</td>\n",
       "      <td>11.000000</td>\n",
       "    </tr>\n",
       "    <tr>\n",
       "      <th>f3</th>\n",
       "      <td>105471.0</td>\n",
       "      <td>0.499066</td>\n",
       "      <td>0.288752</td>\n",
       "      <td>0.000006</td>\n",
       "      <td>0.24895</td>\n",
       "      <td>0.498267</td>\n",
       "      <td>0.749494</td>\n",
       "      <td>0.999994</td>\n",
       "    </tr>\n",
       "    <tr>\n",
       "      <th>f4</th>\n",
       "      <td>105471.0</td>\n",
       "      <td>2678.488874</td>\n",
       "      <td>1401.010943</td>\n",
       "      <td>1100.000000</td>\n",
       "      <td>1500.00000</td>\n",
       "      <td>2200.000000</td>\n",
       "      <td>3700.000000</td>\n",
       "      <td>7900.000000</td>\n",
       "    </tr>\n",
       "    <tr>\n",
       "      <th>...</th>\n",
       "      <td>...</td>\n",
       "      <td>...</td>\n",
       "      <td>...</td>\n",
       "      <td>...</td>\n",
       "      <td>...</td>\n",
       "      <td>...</td>\n",
       "      <td>...</td>\n",
       "      <td>...</td>\n",
       "    </tr>\n",
       "    <tr>\n",
       "      <th>f775</th>\n",
       "      <td>105471.0</td>\n",
       "      <td>0.014797</td>\n",
       "      <td>1.031897</td>\n",
       "      <td>-18.439600</td>\n",
       "      <td>-0.69885</td>\n",
       "      <td>0.353600</td>\n",
       "      <td>0.732900</td>\n",
       "      <td>11.092000</td>\n",
       "    </tr>\n",
       "    <tr>\n",
       "      <th>f776</th>\n",
       "      <td>105471.0</td>\n",
       "      <td>0.310246</td>\n",
       "      <td>0.462597</td>\n",
       "      <td>0.000000</td>\n",
       "      <td>0.00000</td>\n",
       "      <td>0.000000</td>\n",
       "      <td>1.000000</td>\n",
       "      <td>1.000000</td>\n",
       "    </tr>\n",
       "    <tr>\n",
       "      <th>f777</th>\n",
       "      <td>105471.0</td>\n",
       "      <td>0.322847</td>\n",
       "      <td>0.467567</td>\n",
       "      <td>0.000000</td>\n",
       "      <td>0.00000</td>\n",
       "      <td>0.000000</td>\n",
       "      <td>1.000000</td>\n",
       "      <td>1.000000</td>\n",
       "    </tr>\n",
       "    <tr>\n",
       "      <th>f778</th>\n",
       "      <td>105471.0</td>\n",
       "      <td>175.951589</td>\n",
       "      <td>298.294043</td>\n",
       "      <td>2.000000</td>\n",
       "      <td>19.00000</td>\n",
       "      <td>40.000000</td>\n",
       "      <td>104.000000</td>\n",
       "      <td>1212.000000</td>\n",
       "    </tr>\n",
       "    <tr>\n",
       "      <th>loss</th>\n",
       "      <td>105471.0</td>\n",
       "      <td>0.799585</td>\n",
       "      <td>4.321120</td>\n",
       "      <td>0.000000</td>\n",
       "      <td>0.00000</td>\n",
       "      <td>0.000000</td>\n",
       "      <td>0.000000</td>\n",
       "      <td>100.000000</td>\n",
       "    </tr>\n",
       "  </tbody>\n",
       "</table>\n",
       "<p>771 rows × 8 columns</p>\n",
       "</div>"
      ],
      "text/plain": [
       "         count          mean           std          min          25%  \\\n",
       "id    105471.0  52736.000000  30446.999458     1.000000  26368.50000   \n",
       "f1    105471.0    134.603171     14.725467   103.000000    124.00000   \n",
       "f2    105471.0      8.246883      1.691535     1.000000      8.00000   \n",
       "f3    105471.0      0.499066      0.288752     0.000006      0.24895   \n",
       "f4    105471.0   2678.488874   1401.010943  1100.000000   1500.00000   \n",
       "...        ...           ...           ...          ...          ...   \n",
       "f775  105471.0      0.014797      1.031897   -18.439600     -0.69885   \n",
       "f776  105471.0      0.310246      0.462597     0.000000      0.00000   \n",
       "f777  105471.0      0.322847      0.467567     0.000000      0.00000   \n",
       "f778  105471.0    175.951589    298.294043     2.000000     19.00000   \n",
       "loss  105471.0      0.799585      4.321120     0.000000      0.00000   \n",
       "\n",
       "               50%           75%            max  \n",
       "id    52736.000000  79103.500000  105471.000000  \n",
       "f1      129.000000    148.000000     176.000000  \n",
       "f2        9.000000      9.000000      11.000000  \n",
       "f3        0.498267      0.749494       0.999994  \n",
       "f4     2200.000000   3700.000000    7900.000000  \n",
       "...            ...           ...            ...  \n",
       "f775      0.353600      0.732900      11.092000  \n",
       "f776      0.000000      1.000000       1.000000  \n",
       "f777      0.000000      1.000000       1.000000  \n",
       "f778     40.000000    104.000000    1212.000000  \n",
       "loss      0.000000      0.000000     100.000000  \n",
       "\n",
       "[771 rows x 8 columns]"
      ]
     },
     "execution_count": 6,
     "metadata": {},
     "output_type": "execute_result"
    }
   ],
   "source": [
    "df.describe(include='all').transpose()"
   ]
  },
  {
   "cell_type": "code",
   "execution_count": 17,
   "metadata": {},
   "outputs": [],
   "source": [
    "#we will do classification of loan approval so making loss binary\n",
    "df['bin_loss'] = df.loss>0"
   ]
  },
  {
   "cell_type": "code",
   "execution_count": 18,
   "metadata": {},
   "outputs": [
    {
     "data": {
      "text/plain": [
       "0         False\n",
       "1         False\n",
       "2         False\n",
       "3         False\n",
       "4         False\n",
       "          ...  \n",
       "105466    False\n",
       "105467    False\n",
       "105468    False\n",
       "105469    False\n",
       "105470    False\n",
       "Name: bin_loss, Length: 105471, dtype: bool"
      ]
     },
     "execution_count": 18,
     "metadata": {},
     "output_type": "execute_result"
    }
   ],
   "source": [
    "df.bin_loss"
   ]
  },
  {
   "cell_type": "code",
   "execution_count": 19,
   "metadata": {},
   "outputs": [
    {
     "data": {
      "text/plain": [
       "False    95688\n",
       "True      9783\n",
       "Name: bin_loss, dtype: int64"
      ]
     },
     "execution_count": 19,
     "metadata": {},
     "output_type": "execute_result"
    }
   ],
   "source": [
    "#checking the value_counts to realise the data is highly imbalanced\n",
    "df.bin_loss.value_counts()"
   ]
  },
  {
   "cell_type": "code",
   "execution_count": 20,
   "metadata": {},
   "outputs": [],
   "source": [
    "#extract independent and dependent vars\n",
    "X = df.drop(['id','loss','bin_loss'],axis=1)#id, loss are not going to be used\n",
    "y = df.bin_loss"
   ]
  },
  {
   "cell_type": "code",
   "execution_count": 21,
   "metadata": {},
   "outputs": [],
   "source": [
    "#split to train and test for cross-validation\n",
    "from sklearn.model_selection import train_test_split\n",
    "X_train,X_test,y_train,y_test = train_test_split(X,y,test_size=0.3,random_state=0)"
   ]
  },
  {
   "cell_type": "code",
   "execution_count": 22,
   "metadata": {},
   "outputs": [],
   "source": [
    "#scale the features using training set\n",
    "from sklearn.preprocessing import StandardScaler\n",
    "sc = StandardScaler()\n",
    "X_train_scaled = pd.DataFrame(sc.fit_transform(X_train),columns=X.columns)\n",
    "X_test_scaled = pd.DataFrame(sc.transform(X_test),columns=X.columns)"
   ]
  },
  {
   "cell_type": "code",
   "execution_count": 23,
   "metadata": {},
   "outputs": [],
   "source": [
    "#import the model\n",
    "from sklearn.linear_model import LogisticRegression\n",
    "#We use saga solver for large dataset \n",
    "#and class_weight to deal with the imbalance\n",
    "model = LogisticRegression(max_iter=500,tol=0.001,solver='saga', \n",
    "                           class_weight={False:1, True:9})"
   ]
  },
  {
   "cell_type": "code",
   "execution_count": 14,
   "metadata": {},
   "outputs": [
    {
     "data": {
      "text/plain": [
       "LogisticRegression(C=1.0, class_weight={False: 1, True: 9}, dual=False,\n",
       "                   fit_intercept=True, intercept_scaling=1, l1_ratio=None,\n",
       "                   max_iter=500, multi_class='auto', n_jobs=None, penalty='l2',\n",
       "                   random_state=None, solver='saga', tol=0.001, verbose=0,\n",
       "                   warm_start=False)"
      ]
     },
     "execution_count": 14,
     "metadata": {},
     "output_type": "execute_result"
    }
   ],
   "source": [
    "#Training the model \n",
    "model.fit(X_train_scaled,y_train)"
   ]
  },
  {
   "cell_type": "code",
   "execution_count": 15,
   "metadata": {},
   "outputs": [
    {
     "data": {
      "text/plain": [
       "0.6829530371025851"
      ]
     },
     "execution_count": 15,
     "metadata": {},
     "output_type": "execute_result"
    }
   ],
   "source": [
    "#Validating the model\n",
    "\n",
    "model.score(X_test_scaled,y_test)"
   ]
  },
  {
   "cell_type": "code",
   "execution_count": 32,
   "metadata": {},
   "outputs": [],
   "source": [
    "from sklearn.metrics import confusion_matrix, classification_report"
   ]
  },
  {
   "cell_type": "code",
   "execution_count": 16,
   "metadata": {},
   "outputs": [
    {
     "name": "stdout",
     "output_type": "stream",
     "text": [
      "              precision    recall  f1-score   support\n",
      "\n",
      "       False       0.95      0.69      0.80     28660\n",
      "        True       0.17      0.62      0.27      2982\n",
      "\n",
      "    accuracy                           0.68     31642\n",
      "   macro avg       0.56      0.66      0.53     31642\n",
      "weighted avg       0.87      0.68      0.75     31642\n",
      "\n"
     ]
    },
    {
     "data": {
      "text/plain": [
       "array([[19753,  8907],\n",
       "       [ 1125,  1857]], dtype=int64)"
      ]
     },
     "execution_count": 16,
     "metadata": {},
     "output_type": "execute_result"
    }
   ],
   "source": [
    "y_pred = model.predict(X_test_scaled)\n",
    "print(classification_report(y_test,y_pred))\n",
    "confusion_matrix(y_test,y_pred)"
   ]
  },
  {
   "cell_type": "markdown",
   "metadata": {},
   "source": [
    "The above exercise showed us that with more than 700 features it will take very long to run a simple model like Logistic Regression. \n",
    "\n",
    "One option is to apply Dimensionality reduction\n",
    "\n"
   ]
  },
  {
   "cell_type": "code",
   "execution_count": 24,
   "metadata": {},
   "outputs": [
    {
     "data": {
      "text/plain": [
       "PCA(copy=True, iterated_power='auto', n_components=5, random_state=None,\n",
       "    svd_solver='auto', tol=0.0, whiten=False)"
      ]
     },
     "execution_count": 24,
     "metadata": {},
     "output_type": "execute_result"
    }
   ],
   "source": [
    "'''\n",
    "PCA uses Singular Value Decomposition to calculate \n",
    "new features that help discrimate based on their differences\n",
    "'''\n",
    "from sklearn.decomposition import PCA\n",
    "pca = PCA(n_components=5)\n",
    "pca.fit(X_train_scaled)"
   ]
  },
  {
   "cell_type": "code",
   "execution_count": 25,
   "metadata": {},
   "outputs": [
    {
     "data": {
      "text/plain": [
       "array([0.16439148, 0.14749705, 0.07365848, 0.05880162, 0.05526846])"
      ]
     },
     "execution_count": 25,
     "metadata": {},
     "output_type": "execute_result"
    }
   ],
   "source": [
    "#Explained variance shows discriminating power of each new feature \n",
    "#the first five are chosen as the values are significant\n",
    "pca.explained_variance_ratio_"
   ]
  },
  {
   "cell_type": "code",
   "execution_count": 26,
   "metadata": {},
   "outputs": [
    {
     "data": {
      "text/html": [
       "<div>\n",
       "<style scoped>\n",
       "    .dataframe tbody tr th:only-of-type {\n",
       "        vertical-align: middle;\n",
       "    }\n",
       "\n",
       "    .dataframe tbody tr th {\n",
       "        vertical-align: top;\n",
       "    }\n",
       "\n",
       "    .dataframe thead th {\n",
       "        text-align: right;\n",
       "    }\n",
       "</style>\n",
       "<table border=\"1\" class=\"dataframe\">\n",
       "  <thead>\n",
       "    <tr style=\"text-align: right;\">\n",
       "      <th></th>\n",
       "      <th>0</th>\n",
       "      <th>1</th>\n",
       "      <th>2</th>\n",
       "      <th>3</th>\n",
       "      <th>4</th>\n",
       "    </tr>\n",
       "  </thead>\n",
       "  <tbody>\n",
       "    <tr>\n",
       "      <th>0</th>\n",
       "      <td>-10.350902</td>\n",
       "      <td>7.415833</td>\n",
       "      <td>8.910038</td>\n",
       "      <td>1.542881</td>\n",
       "      <td>11.834651</td>\n",
       "    </tr>\n",
       "    <tr>\n",
       "      <th>1</th>\n",
       "      <td>6.671817</td>\n",
       "      <td>-0.574774</td>\n",
       "      <td>5.034939</td>\n",
       "      <td>-2.590924</td>\n",
       "      <td>-2.238140</td>\n",
       "    </tr>\n",
       "    <tr>\n",
       "      <th>2</th>\n",
       "      <td>-3.985748</td>\n",
       "      <td>-2.494332</td>\n",
       "      <td>3.732511</td>\n",
       "      <td>-5.164439</td>\n",
       "      <td>6.421786</td>\n",
       "    </tr>\n",
       "    <tr>\n",
       "      <th>3</th>\n",
       "      <td>-0.967143</td>\n",
       "      <td>-2.798823</td>\n",
       "      <td>4.178289</td>\n",
       "      <td>-5.402487</td>\n",
       "      <td>7.732958</td>\n",
       "    </tr>\n",
       "    <tr>\n",
       "      <th>4</th>\n",
       "      <td>-13.773151</td>\n",
       "      <td>4.306439</td>\n",
       "      <td>-2.717403</td>\n",
       "      <td>-2.801944</td>\n",
       "      <td>1.575983</td>\n",
       "    </tr>\n",
       "  </tbody>\n",
       "</table>\n",
       "</div>"
      ],
      "text/plain": [
       "           0         1         2         3          4\n",
       "0 -10.350902  7.415833  8.910038  1.542881  11.834651\n",
       "1   6.671817 -0.574774  5.034939 -2.590924  -2.238140\n",
       "2  -3.985748 -2.494332  3.732511 -5.164439   6.421786\n",
       "3  -0.967143 -2.798823  4.178289 -5.402487   7.732958\n",
       "4 -13.773151  4.306439 -2.717403 -2.801944   1.575983"
      ]
     },
     "execution_count": 26,
     "metadata": {},
     "output_type": "execute_result"
    }
   ],
   "source": [
    "#the new features (principal components) do not have much \n",
    "#physical interpretation as the original features \n",
    "#but are calculated/derived using the original features \n",
    "X_train_pca = pd.DataFrame(pca.transform(X_train_scaled))\n",
    "X_train_pca.head()"
   ]
  },
  {
   "cell_type": "code",
   "execution_count": 29,
   "metadata": {},
   "outputs": [
    {
     "data": {
      "text/plain": [
       "LogisticRegression(C=1.0, class_weight={False: 1, True: 9}, dual=False,\n",
       "                   fit_intercept=True, intercept_scaling=1, l1_ratio=None,\n",
       "                   max_iter=100, multi_class='auto', n_jobs=None, penalty='l2',\n",
       "                   random_state=None, solver='saga', tol=0.0001, verbose=0,\n",
       "                   warm_start=False)"
      ]
     },
     "execution_count": 29,
     "metadata": {},
     "output_type": "execute_result"
    }
   ],
   "source": [
    "#remodelling in the new feature space\n",
    "model_pca = LogisticRegression(solver='saga',class_weight={False:1, True:9})\n",
    "model_pca.fit(X_train_pca,y_train)"
   ]
  },
  {
   "cell_type": "code",
   "execution_count": 30,
   "metadata": {},
   "outputs": [
    {
     "data": {
      "text/plain": [
       "0.6543202073193857"
      ]
     },
     "execution_count": 30,
     "metadata": {},
     "output_type": "execute_result"
    }
   ],
   "source": [
    "#the test set needs to be transformed as well\n",
    "X_test_pca = pd.DataFrame(pca.transform(X_test_scaled))\n",
    "model_pca.score(X_test_pca,y_test)"
   ]
  },
  {
   "cell_type": "code",
   "execution_count": 33,
   "metadata": {},
   "outputs": [
    {
     "name": "stdout",
     "output_type": "stream",
     "text": [
      "              precision    recall  f1-score   support\n",
      "\n",
      "       False       0.93      0.67      0.78     28660\n",
      "        True       0.14      0.54      0.23      2982\n",
      "\n",
      "    accuracy                           0.65     31642\n",
      "   macro avg       0.54      0.60      0.50     31642\n",
      "weighted avg       0.86      0.65      0.73     31642\n",
      "\n"
     ]
    },
    {
     "data": {
      "text/plain": [
       "array([[19100,  9560],\n",
       "       [ 1378,  1604]], dtype=int64)"
      ]
     },
     "execution_count": 33,
     "metadata": {},
     "output_type": "execute_result"
    }
   ],
   "source": [
    "#scoring the model on the new featureset\n",
    "y_pred_pca = model_pca.predict(X_test_pca)\n",
    "print(classification_report(y_test,y_pred_pca))\n",
    "confusion_matrix(y_test,y_pred_pca)"
   ]
  },
  {
   "cell_type": "markdown",
   "metadata": {},
   "source": [
    "The results above show that we can arrive at similar test-scores after we reduce the data dimension significantly using PCA. The scores are slightly less the ones when we used all the 700+ features but the model is much faster in execution. So we need to do the trade-off between time of computation and model performance in terms of accuracy, precision etc. "
   ]
  },
  {
   "cell_type": "code",
   "execution_count": null,
   "metadata": {},
   "outputs": [],
   "source": []
  }
 ],
 "metadata": {
  "kernelspec": {
   "display_name": "Python 3",
   "language": "python",
   "name": "python3"
  },
  "language_info": {
   "codemirror_mode": {
    "name": "ipython",
    "version": 3
   },
   "file_extension": ".py",
   "mimetype": "text/x-python",
   "name": "python",
   "nbconvert_exporter": "python",
   "pygments_lexer": "ipython3",
   "version": "3.7.6"
  }
 },
 "nbformat": 4,
 "nbformat_minor": 4
}
