{
 "cells": [
  {
   "cell_type": "code",
   "execution_count": 1,
   "metadata": {},
   "outputs": [],
   "source": [
    "#We are going to use iris dataset in this example\n",
    "from sklearn.datasets import load_iris"
   ]
  },
  {
   "cell_type": "code",
   "execution_count": 2,
   "metadata": {},
   "outputs": [
    {
     "data": {
      "text/html": [
       "<div>\n",
       "<style scoped>\n",
       "    .dataframe tbody tr th:only-of-type {\n",
       "        vertical-align: middle;\n",
       "    }\n",
       "\n",
       "    .dataframe tbody tr th {\n",
       "        vertical-align: top;\n",
       "    }\n",
       "\n",
       "    .dataframe thead th {\n",
       "        text-align: right;\n",
       "    }\n",
       "</style>\n",
       "<table border=\"1\" class=\"dataframe\">\n",
       "  <thead>\n",
       "    <tr style=\"text-align: right;\">\n",
       "      <th></th>\n",
       "      <th>sepal length (cm)</th>\n",
       "      <th>sepal width (cm)</th>\n",
       "      <th>petal length (cm)</th>\n",
       "      <th>petal width (cm)</th>\n",
       "    </tr>\n",
       "  </thead>\n",
       "  <tbody>\n",
       "    <tr>\n",
       "      <th>0</th>\n",
       "      <td>5.1</td>\n",
       "      <td>3.5</td>\n",
       "      <td>1.4</td>\n",
       "      <td>0.2</td>\n",
       "    </tr>\n",
       "    <tr>\n",
       "      <th>1</th>\n",
       "      <td>4.9</td>\n",
       "      <td>3.0</td>\n",
       "      <td>1.4</td>\n",
       "      <td>0.2</td>\n",
       "    </tr>\n",
       "    <tr>\n",
       "      <th>2</th>\n",
       "      <td>4.7</td>\n",
       "      <td>3.2</td>\n",
       "      <td>1.3</td>\n",
       "      <td>0.2</td>\n",
       "    </tr>\n",
       "    <tr>\n",
       "      <th>3</th>\n",
       "      <td>4.6</td>\n",
       "      <td>3.1</td>\n",
       "      <td>1.5</td>\n",
       "      <td>0.2</td>\n",
       "    </tr>\n",
       "    <tr>\n",
       "      <th>4</th>\n",
       "      <td>5.0</td>\n",
       "      <td>3.6</td>\n",
       "      <td>1.4</td>\n",
       "      <td>0.2</td>\n",
       "    </tr>\n",
       "  </tbody>\n",
       "</table>\n",
       "</div>"
      ],
      "text/plain": [
       "   sepal length (cm)  sepal width (cm)  petal length (cm)  petal width (cm)\n",
       "0                5.1               3.5                1.4               0.2\n",
       "1                4.9               3.0                1.4               0.2\n",
       "2                4.7               3.2                1.3               0.2\n",
       "3                4.6               3.1                1.5               0.2\n",
       "4                5.0               3.6                1.4               0.2"
      ]
     },
     "execution_count": 2,
     "metadata": {},
     "output_type": "execute_result"
    }
   ],
   "source": [
    "#We will use pandas to handle the data\n",
    "import pandas as pd\n",
    "dataset = load_iris()\n",
    "X = pd.DataFrame(dataset.data,columns=dataset.feature_names)\n",
    "X.head()"
   ]
  },
  {
   "cell_type": "code",
   "execution_count": 3,
   "metadata": {},
   "outputs": [
    {
     "data": {
      "text/plain": [
       "dict_keys(['data', 'target', 'target_names', 'DESCR', 'feature_names', 'filename'])"
      ]
     },
     "execution_count": 3,
     "metadata": {},
     "output_type": "execute_result"
    }
   ],
   "source": [
    "dataset.keys()"
   ]
  },
  {
   "cell_type": "code",
   "execution_count": 4,
   "metadata": {},
   "outputs": [
    {
     "data": {
      "text/plain": [
       "0    0\n",
       "1    0\n",
       "2    0\n",
       "3    0\n",
       "4    0\n",
       "Name: Iris_Breed, dtype: int32"
      ]
     },
     "execution_count": 4,
     "metadata": {},
     "output_type": "execute_result"
    }
   ],
   "source": [
    "y = pd.Series(dataset.target,name='Iris_Breed')\n",
    "y.head()"
   ]
  },
  {
   "cell_type": "code",
   "execution_count": 7,
   "metadata": {},
   "outputs": [],
   "source": [
    "#https://scikit-learn.org/stable/modules/generated/sklearn.tree.DecisionTreeClassifier.html\n",
    "from sklearn.tree import DecisionTreeClassifier\n",
    "model = DecisionTreeClassifier(random_state=0)"
   ]
  },
  {
   "cell_type": "code",
   "execution_count": 8,
   "metadata": {},
   "outputs": [
    {
     "data": {
      "text/plain": [
       "DecisionTreeClassifier(ccp_alpha=0.0, class_weight=None, criterion='gini',\n",
       "                       max_depth=None, max_features=None, max_leaf_nodes=None,\n",
       "                       min_impurity_decrease=0.0, min_impurity_split=None,\n",
       "                       min_samples_leaf=1, min_samples_split=2,\n",
       "                       min_weight_fraction_leaf=0.0, presort='deprecated',\n",
       "                       random_state=0, splitter='best')"
      ]
     },
     "execution_count": 8,
     "metadata": {},
     "output_type": "execute_result"
    }
   ],
   "source": [
    "#Training the model\n",
    "model.fit(X,y)"
   ]
  },
  {
   "cell_type": "code",
   "execution_count": 11,
   "metadata": {},
   "outputs": [
    {
     "data": {
      "text/plain": [
       "[Text(167.4, 199.32, 'petal width (cm) <= 0.8\\ngini = 0.667\\nsamples = 150\\nvalue = [50, 50, 50]\\nclass = setosa'),\n",
       " Text(141.64615384615385, 163.07999999999998, 'gini = 0.0\\nsamples = 50\\nvalue = [50, 0, 0]\\nclass = setosa'),\n",
       " Text(193.15384615384616, 163.07999999999998, 'petal width (cm) <= 1.75\\ngini = 0.5\\nsamples = 100\\nvalue = [0, 50, 50]\\nclass = versicolor'),\n",
       " Text(103.01538461538462, 126.83999999999999, 'petal length (cm) <= 4.95\\ngini = 0.168\\nsamples = 54\\nvalue = [0, 49, 5]\\nclass = versicolor'),\n",
       " Text(51.50769230769231, 90.6, 'petal width (cm) <= 1.65\\ngini = 0.041\\nsamples = 48\\nvalue = [0, 47, 1]\\nclass = versicolor'),\n",
       " Text(25.753846153846155, 54.359999999999985, 'gini = 0.0\\nsamples = 47\\nvalue = [0, 47, 0]\\nclass = versicolor'),\n",
       " Text(77.26153846153846, 54.359999999999985, 'gini = 0.0\\nsamples = 1\\nvalue = [0, 0, 1]\\nclass = virginica'),\n",
       " Text(154.52307692307693, 90.6, 'petal width (cm) <= 1.55\\ngini = 0.444\\nsamples = 6\\nvalue = [0, 2, 4]\\nclass = virginica'),\n",
       " Text(128.76923076923077, 54.359999999999985, 'gini = 0.0\\nsamples = 3\\nvalue = [0, 0, 3]\\nclass = virginica'),\n",
       " Text(180.27692307692308, 54.359999999999985, 'petal length (cm) <= 5.45\\ngini = 0.444\\nsamples = 3\\nvalue = [0, 2, 1]\\nclass = versicolor'),\n",
       " Text(154.52307692307693, 18.119999999999976, 'gini = 0.0\\nsamples = 2\\nvalue = [0, 2, 0]\\nclass = versicolor'),\n",
       " Text(206.03076923076924, 18.119999999999976, 'gini = 0.0\\nsamples = 1\\nvalue = [0, 0, 1]\\nclass = virginica'),\n",
       " Text(283.2923076923077, 126.83999999999999, 'petal length (cm) <= 4.85\\ngini = 0.043\\nsamples = 46\\nvalue = [0, 1, 45]\\nclass = virginica'),\n",
       " Text(257.53846153846155, 90.6, 'sepal width (cm) <= 3.1\\ngini = 0.444\\nsamples = 3\\nvalue = [0, 1, 2]\\nclass = virginica'),\n",
       " Text(231.7846153846154, 54.359999999999985, 'gini = 0.0\\nsamples = 2\\nvalue = [0, 0, 2]\\nclass = virginica'),\n",
       " Text(283.2923076923077, 54.359999999999985, 'gini = 0.0\\nsamples = 1\\nvalue = [0, 1, 0]\\nclass = versicolor'),\n",
       " Text(309.04615384615386, 90.6, 'gini = 0.0\\nsamples = 43\\nvalue = [0, 0, 43]\\nclass = virginica')]"
      ]
     },
     "execution_count": 11,
     "metadata": {},
     "output_type": "execute_result"
    },
    {
     "data": {
      "image/png": "[encoded data removed]",
      "text/plain": [
       "<Figure size 432x288 with 1 Axes>"
      ]
     },
     "metadata": {
      "needs_background": "light"
     },
     "output_type": "display_data"
    }
   ],
   "source": [
    "#Plotting the trained Decision Tree\n",
    "from sklearn.tree import plot_tree\n",
    "plot_tree(model, feature_names=X.columns, class_names=dataset.target_names)"
   ]
  },
  {
   "cell_type": "markdown",
   "metadata": {},
   "source": [
    "The Decision Tree looks complicated as there are some leaf nodes with only one sample datapoint. This is a sign of over-fitting. We should reduce the complexity of the tree to handle this. Thresholding on the maximum depth is a great criterion to do this. \n",
    "\n",
    "We will now look into different max_depth values and their corresponding k-fold scores to find out the ideal max_depth for this dataset. "
   ]
  },
  {
   "cell_type": "code",
   "execution_count": 13,
   "metadata": {},
   "outputs": [],
   "source": [
    "from sklearn.model_selection import cross_val_score\n",
    "scores = []\n",
    "for i in range(1,11,1):\n",
    "    model = DecisionTreeClassifier(max_depth=i,random_state=0)\n",
    "    kfold_score = cross_val_score(model, X, y, cv = 5).mean()\n",
    "    scores.append(kfold_score)"
   ]
  },
  {
   "cell_type": "code",
   "execution_count": 14,
   "metadata": {},
   "outputs": [
    {
     "data": {
      "image/png": "[encoded data removed]",
      "text/plain": [
       "<Figure size 432x288 with 1 Axes>"
      ]
     },
     "metadata": {
      "needs_background": "light"
     },
     "output_type": "display_data"
    }
   ],
   "source": [
    "import matplotlib.pyplot as plt\n",
    "plt.plot(range(1,11,1),scores)\n",
    "plt.xlabel('Max_Depth (Complexity)')\n",
    "plt.ylabel('K-fold R^2 (Test score)')\n",
    "plt.show()"
   ]
  },
  {
   "cell_type": "code",
   "execution_count": 15,
   "metadata": {},
   "outputs": [
    {
     "data": {
      "text/plain": [
       "[0.6666666666666666,\n",
       " 0.9333333333333332,\n",
       " 0.96,\n",
       " 0.9666666666666668,\n",
       " 0.9600000000000002,\n",
       " 0.9600000000000002,\n",
       " 0.9600000000000002,\n",
       " 0.9600000000000002,\n",
       " 0.9600000000000002,\n",
       " 0.9600000000000002]"
      ]
     },
     "execution_count": 15,
     "metadata": {},
     "output_type": "execute_result"
    }
   ],
   "source": [
    "scores"
   ]
  },
  {
   "cell_type": "markdown",
   "metadata": {},
   "source": [
    "The figure above shows at a maximum depth of 3 or 4, the model peaks the k-fold score and we should not go beyond this to over-complicate the tree. So I'll train a Decision Tree with max-depth 3 on this data set."
   ]
  },
  {
   "cell_type": "code",
   "execution_count": 17,
   "metadata": {},
   "outputs": [
    {
     "data": {
      "text/plain": [
       "[Text(125.55000000000001, 190.26, 'petal width (cm) <= 0.8\\ngini = 0.667\\nsamples = 150\\nvalue = [50, 50, 50]\\nclass = setosa'),\n",
       " Text(83.7, 135.9, 'gini = 0.0\\nsamples = 50\\nvalue = [50, 0, 0]\\nclass = setosa'),\n",
       " Text(167.4, 135.9, 'petal width (cm) <= 1.75\\ngini = 0.5\\nsamples = 100\\nvalue = [0, 50, 50]\\nclass = versicolor'),\n",
       " Text(83.7, 81.53999999999999, 'petal length (cm) <= 4.95\\ngini = 0.168\\nsamples = 54\\nvalue = [0, 49, 5]\\nclass = versicolor'),\n",
       " Text(41.85, 27.180000000000007, 'gini = 0.041\\nsamples = 48\\nvalue = [0, 47, 1]\\nclass = versicolor'),\n",
       " Text(125.55000000000001, 27.180000000000007, 'gini = 0.444\\nsamples = 6\\nvalue = [0, 2, 4]\\nclass = virginica'),\n",
       " Text(251.10000000000002, 81.53999999999999, 'petal length (cm) <= 4.85\\ngini = 0.043\\nsamples = 46\\nvalue = [0, 1, 45]\\nclass = virginica'),\n",
       " Text(209.25, 27.180000000000007, 'gini = 0.444\\nsamples = 3\\nvalue = [0, 1, 2]\\nclass = virginica'),\n",
       " Text(292.95, 27.180000000000007, 'gini = 0.0\\nsamples = 43\\nvalue = [0, 0, 43]\\nclass = virginica')]"
      ]
     },
     "execution_count": 17,
     "metadata": {},
     "output_type": "execute_result"
    },
    {
     "data": {
      "image/png": "[encoded data removed]",
      "text/plain": [
       "<Figure size 432x288 with 1 Axes>"
      ]
     },
     "metadata": {
      "needs_background": "light"
     },
     "output_type": "display_data"
    }
   ],
   "source": [
    "model = DecisionTreeClassifier(max_depth=3,random_state=0)\n",
    "model.fit(X,y)\n",
    "plot_tree(model, feature_names=X.columns, class_names=dataset.target_names)"
   ]
  },
  {
   "cell_type": "code",
   "execution_count": 21,
   "metadata": {},
   "outputs": [
    {
     "data": {
      "text/plain": [
       "'versicolor'"
      ]
     },
     "execution_count": 21,
     "metadata": {},
     "output_type": "execute_result"
    }
   ],
   "source": [
    "'''\n",
    "As shown by the Decision tree, an iris plant with petal length(X_3) \n",
    "of 3.8 cm and petal width(X_2) of 1.5 should be predicted as \n",
    "versicolor(y=1)\n",
    "\n",
    "'''\n",
    "#Pedicting a test point\n",
    "dataset.target_names[model.predict([[0,0,3.8,1.5]])[0]]"
   ]
  }
 ],
 "metadata": {
  "kernelspec": {
   "display_name": "Python 3",
   "language": "python",
   "name": "python3"
  },
  "language_info": {
   "codemirror_mode": {
    "name": "ipython",
    "version": 3
   },
   "file_extension": ".py",
   "mimetype": "text/x-python",
   "name": "python",
   "nbconvert_exporter": "python",
   "pygments_lexer": "ipython3",
   "version": "3.7.6"
  }
 },
 "nbformat": 4,
 "nbformat_minor": 4
}
